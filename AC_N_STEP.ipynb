{
  "cells": [
    {
      "cell_type": "code",
      "execution_count": 1,
      "metadata": {
        "colab": {
          "base_uri": "https://localhost:8080/"
        },
        "id": "inyjEysSmTYW",
        "outputId": "9978542c-bdf8-4c60-be0f-9d9ec15e919a"
      },
      "outputs": [
        {
          "output_type": "stream",
          "name": "stdout",
          "text": [
            "Looking in indexes: https://pypi.org/simple, https://us-python.pkg.dev/colab-wheels/public/simple/\n",
            "Requirement already satisfied: setuptools in /usr/local/lib/python3.9/dist-packages (67.6.0)\n",
            "Collecting setuptools\n",
            "  Downloading setuptools-67.6.1-py3-none-any.whl (1.1 MB)\n",
            "\u001b[2K     \u001b[90m━━━━━━━━━━━━━━━━━━━━━━━━━━━━━━━━━━━━━━━━\u001b[0m \u001b[32m1.1/1.1 MB\u001b[0m \u001b[31m40.5 MB/s\u001b[0m eta \u001b[36m0:00:00\u001b[0m\n",
            "\u001b[?25hInstalling collected packages: setuptools\n",
            "  Attempting uninstall: setuptools\n",
            "    Found existing installation: setuptools 67.6.0\n",
            "    Uninstalling setuptools-67.6.0:\n",
            "      Successfully uninstalled setuptools-67.6.0\n",
            "\u001b[31mERROR: pip's dependency resolver does not currently take into account all the packages that are installed. This behaviour is the source of the following dependency conflicts.\n",
            "ipython 7.9.0 requires jedi>=0.10, which is not installed.\u001b[0m\u001b[31m\n",
            "\u001b[0mSuccessfully installed setuptools-67.6.1\n",
            "Looking in indexes: https://pypi.org/simple, https://us-python.pkg.dev/colab-wheels/public/simple/\n",
            "Requirement already satisfied: gym[classic_control] in /usr/local/lib/python3.9/dist-packages (0.25.2)\n",
            "Requirement already satisfied: gym-notices>=0.0.4 in /usr/local/lib/python3.9/dist-packages (from gym[classic_control]) (0.0.8)\n",
            "Requirement already satisfied: importlib-metadata>=4.8.0 in /usr/local/lib/python3.9/dist-packages (from gym[classic_control]) (6.1.0)\n",
            "Requirement already satisfied: numpy>=1.18.0 in /usr/local/lib/python3.9/dist-packages (from gym[classic_control]) (1.22.4)\n",
            "Requirement already satisfied: cloudpickle>=1.2.0 in /usr/local/lib/python3.9/dist-packages (from gym[classic_control]) (2.2.1)\n",
            "Collecting pygame==2.1.0\n",
            "  Downloading pygame-2.1.0-cp39-cp39-manylinux_2_17_x86_64.manylinux2014_x86_64.whl (18.3 MB)\n",
            "\u001b[2K     \u001b[90m━━━━━━━━━━━━━━━━━━━━━━━━━━━━━━━━━━━━━━━━\u001b[0m \u001b[32m18.3/18.3 MB\u001b[0m \u001b[31m77.2 MB/s\u001b[0m eta \u001b[36m0:00:00\u001b[0m\n",
            "\u001b[?25hRequirement already satisfied: zipp>=0.5 in /usr/local/lib/python3.9/dist-packages (from importlib-metadata>=4.8.0->gym[classic_control]) (3.15.0)\n",
            "Installing collected packages: pygame\n",
            "  Attempting uninstall: pygame\n",
            "    Found existing installation: pygame 2.3.0\n",
            "    Uninstalling pygame-2.3.0:\n",
            "      Successfully uninstalled pygame-2.3.0\n",
            "Successfully installed pygame-2.1.0\n"
          ]
        }
      ],
      "source": [
        "'''\n",
        "Installing packages for rendering the game on Colab\n",
        "'''\n",
        "\n",
        "!pip install gym pyvirtualdisplay > /dev/null 2>&1\n",
        "!apt-get install -y xvfb python-opengl ffmpeg > /dev/null 2>&1\n",
        "!apt-get update > /dev/null 2>&1\n",
        "!apt-get install cmake > /dev/null 2>&1\n",
        "!pip install --upgrade setuptools 2>&1\n",
        "!pip install ez_setup > /dev/null 2>&1\n",
        "!pip install gym[atari] > /dev/null 2>&1\n",
        "!pip install git+https://github.com/tensorflow/docs > /dev/null 2>&1\n",
        "!pip install gym[classic_control]"
      ]
    },
    {
      "cell_type": "code",
      "execution_count": 2,
      "metadata": {
        "id": "MoyENSiknAsD"
      },
      "outputs": [],
      "source": [
        "import numpy as np\n",
        "import random\n",
        "import torch\n",
        "import torch.nn as nn  \n",
        "import torch.nn.functional as F\n",
        "from collections import namedtuple, deque\n",
        "import torch.optim as optim\n",
        "import datetime\n",
        "import gym\n",
        "from gym.wrappers.record_video import RecordVideo\n",
        "import glob\n",
        "import io\n",
        "import base64\n",
        "import matplotlib.pyplot as plt\n",
        "from IPython.display import HTML\n",
        "from pyvirtualdisplay import Display\n",
        "import tensorflow as tf\n",
        "from IPython import display as ipythondisplay\n",
        "from PIL import Image\n",
        "import tensorflow_probability as tfp"
      ]
    },
    {
      "cell_type": "code",
      "execution_count": 3,
      "metadata": {
        "id": "TFDCI-OknDtJ",
        "colab": {
          "base_uri": "https://localhost:8080/"
        },
        "outputId": "71ee142b-6ffd-4e1c-bb4b-e93f55391647"
      },
      "outputs": [
        {
          "output_type": "stream",
          "name": "stdout",
          "text": [
            "4\n",
            "2\n",
            "1\n",
            "----\n",
            "[ 0.01369617 -0.02302133 -0.04590265 -0.04834723]\n",
            "----\n",
            "1\n",
            "----\n",
            "[ 0.01323574  0.17272775 -0.04686959 -0.3551522 ]\n",
            "1.0\n",
            "False\n",
            "{}\n",
            "----\n"
          ]
        },
        {
          "output_type": "stream",
          "name": "stderr",
          "text": [
            "/usr/local/lib/python3.9/dist-packages/gym/core.py:317: DeprecationWarning: \u001b[33mWARN: Initializing wrapper in old step API which returns one bool instead of two. It is recommended to set `new_step_api=True` to use new step API. This will be the default behaviour in future.\u001b[0m\n",
            "  deprecation(\n",
            "/usr/local/lib/python3.9/dist-packages/gym/wrappers/step_api_compatibility.py:39: DeprecationWarning: \u001b[33mWARN: Initializing environment in old step API which returns one bool instead of two. It is recommended to set `new_step_api=True` to use new step API. This will be the default behaviour in future.\u001b[0m\n",
            "  deprecation(\n",
            "/usr/local/lib/python3.9/dist-packages/gym/core.py:256: DeprecationWarning: \u001b[33mWARN: Function `env.seed(seed)` is marked as deprecated and will be removed in the future. Please use `env.reset(seed=seed)` instead.\u001b[0m\n",
            "  deprecation(\n"
          ]
        }
      ],
      "source": [
        "env = gym.make('CartPole-v1')\n",
        "env.seed(0)\n",
        "\n",
        "state_shape = env.observation_space.shape[0]\n",
        "no_of_actions = env.action_space.n\n",
        "\n",
        "print(state_shape)\n",
        "print(no_of_actions)\n",
        "print(env.action_space.sample())\n",
        "print(\"----\")\n",
        "\n",
        "state = env.reset()   \n",
        "\n",
        "print(state)\n",
        "print(\"----\")\n",
        "\n",
        "action = env.action_space.sample()  \n",
        "\n",
        "print(action)\n",
        "print(\"----\")\n",
        "\n",
        "next_state, reward, done, info = env.step(action) \n",
        "\n",
        "print(next_state)\n",
        "print(reward)\n",
        "print(done)\n",
        "print(info)\n",
        "print(\"----\")"
      ]
    },
    {
      "cell_type": "code",
      "source": [
        "import gym\n",
        "import numpy as np\n",
        "import torch\n",
        "import torch.nn as nn\n",
        "import torch.optim as optim\n",
        "\n",
        "class ActorCritic(nn.Module):\n",
        "\n",
        "    def __init__(self, state_dim, action_dim, hidden1, hidden2):\n",
        "        super(ActorCritic, self).__init__()\n",
        "\n",
        "        self.actor = nn.Sequential(\n",
        "            nn.Linear(state_dim, hidden1),\n",
        "            nn.ReLU(),\n",
        "            nn.Linear(hidden1, hidden2),\n",
        "            nn.ReLU(),\n",
        "            nn.Linear(hidden2, action_dim),\n",
        "            nn.Softmax(dim=-1),\n",
        "        )\n",
        "        self.critic = nn.Sequential(\n",
        "            nn.Linear(state_dim, hidden1),\n",
        "            nn.ReLU(),\n",
        "            nn.Linear(hidden1, hidden2),\n",
        "            nn.ReLU(),\n",
        "            nn.Linear(hidden2, 1)\n",
        "        )\n",
        "\n",
        "    def forward(self, state):\n",
        "        action_probs = self.actor(state)\n",
        "        value = self.critic(state)\n",
        "        return action_probs, value"
      ],
      "metadata": {
        "id": "9QOCX6IJc3h0"
      },
      "execution_count": 4,
      "outputs": []
    },
    {
      "cell_type": "code",
      "source": [
        "HIDDEN1 = 128\n",
        "HIDDEN2 = 64\n",
        "GAMMA = 0.99\n",
        "LR = 2e-5\n",
        "SEED = 101"
      ],
      "metadata": {
        "id": "eXvjaSB1mLbk"
      },
      "execution_count": 5,
      "outputs": []
    },
    {
      "cell_type": "code",
      "source": [
        "class Agent_nstep():\n",
        "\n",
        "  def __init__(self, state_dim, action_dim, gamma = GAMMA, seed = SEED):\n",
        "    super(Agent_nstep, self).__init__()\n",
        "    self.gamma = gamma\n",
        "    self.ac_model = ActorCritic(state_dim, action_dim, HIDDEN1, HIDDEN2)\n",
        "    self.optimizer = optim.Adam(self.ac_model.parameters(), lr = LR)\n",
        "    np.random.seed(seed)\n",
        "\n",
        "  def sample_action(self, state):\n",
        "    state_tensor = torch.FloatTensor(state).unsqueeze(0)\n",
        "    action_probs, _ = self.ac_model(state_tensor)\n",
        "    action = np.random.choice(env.action_space.n, p=action_probs.detach().numpy()[0])\n",
        "    return action\n",
        "\n",
        "  def actor_loss(self, action_probs, actions, advantage):\n",
        "    actor_loss = -torch.log(action_probs[0, actions[0]]) * advantage.detach()\n",
        "    return actor_loss\n",
        "\n",
        "  def critic_loss(self, advantage):\n",
        "    return advantage.pow(2)\n",
        "\n",
        "  def learn(self, states, actions, rewards, state, action, reward, done, n_steps):\n",
        "\n",
        "    if len(states) >= n_steps:\n",
        "        n_step_return = 0\n",
        "        for j in range(n_steps):\n",
        "            n_step_return += (self.gamma ** j) * rewards[j]\n",
        "\n",
        "        n_step_state = torch.FloatTensor(states[-1]).unsqueeze(0)\n",
        "        _, n_step_value = self.ac_model(n_step_state)\n",
        "        n_step_return += (self.gamma ** n_steps) * n_step_value.detach().numpy()[0]\n",
        "\n",
        "        state_i = torch.FloatTensor(states[0]).unsqueeze(0)\n",
        "        _, value_i = self.ac_model(state_i)\n",
        "        advantage = torch.tensor(n_step_return) - value_i\n",
        "\n",
        "        action_probs, _ = self.ac_model(state_i)\n",
        "        actor_loss = self.actor_loss(action_probs, actions, advantage)\n",
        "        critic_loss = self.critic_loss(advantage)\n",
        "        total_loss = actor_loss + critic_loss\n",
        "\n",
        "        self.optimizer.zero_grad()\n",
        "        total_loss.backward()\n",
        "        self.optimizer.step()\n",
        "        \n",
        "    if done:\n",
        "        for i in range(1, n_steps):\n",
        "            n_step_return = 0\n",
        "            for j in range(i):\n",
        "                n_step_return += (self.gamma ** j) * rewards[n_steps-i+j]\n",
        "            \n",
        "            n_step_state = torch.FloatTensor(states[-1]).unsqueeze(0)\n",
        "            _, n_step_value = self.ac_model(n_step_state)\n",
        "            n_step_return += (self.gamma ** i) * n_step_value.detach().numpy()[0]\n",
        "\n",
        "            state_i = torch.FloatTensor(states[i]).unsqueeze(0)\n",
        "            _, value_i = self.ac_model(state_i)\n",
        "            advantage = torch.tensor(n_step_return) - value_i\n",
        "\n",
        "            action_i_probs, _ = self.ac_model(state_i)\n",
        "            actor_loss = -torch.log(action_i_probs[0, actions[-i]]) * advantage.detach()\n",
        "            critic_loss = advantage.pow(2)\n",
        "            total_loss = actor_loss + critic_loss\n",
        "\n",
        "            self.optimizer.zero_grad()\n",
        "            total_loss.backward()\n",
        "            self.optimizer.step()"
      ],
      "metadata": {
        "id": "PbQb2b2Qaz0i"
      },
      "execution_count": 6,
      "outputs": []
    },
    {
      "cell_type": "code",
      "source": [
        "total_rewards = []\n",
        "n_steps = 5\n",
        "\n",
        "for i in range(5):\n",
        "  env = gym.make('Acrobot-v1')\n",
        "  env.seed(SEED)\n",
        "  state_dim = env.observation_space.shape[0]\n",
        "  action_dim = env.action_space.n\n",
        "  reward_list = []\n",
        "  begin_time = datetime.datetime.now()\n",
        "  agent = Agent_nstep(state_dim, action_dim)\n",
        "  num_episodes = 10000\n",
        "  for episode in range(1, num_episodes+1):\n",
        "    state = env.reset()\n",
        "    done = False\n",
        "    episode_reward = 0\n",
        "    states, actions, rewards = deque(maxlen=n_steps+1), deque(maxlen=n_steps+1), deque(maxlen=n_steps+1)\n",
        "\n",
        "    while not done:\n",
        "      action = agent.sample_action(state)\n",
        "      next_state, reward, done, info = env.step(action)\n",
        "      episode_reward += reward\n",
        "      states.append(state)\n",
        "      actions.append(action)\n",
        "      rewards.append(reward)\n",
        "      agent.learn(states, actions, rewards, state, action, reward, done, 5)\n",
        "      state = next_state\n",
        "\n",
        "    reward_list.append(episode_reward)\n",
        "\n",
        "    if episode < 100:\n",
        "      avg_rew = np.mean(reward_list)\n",
        "      print('\\rEpisode {}\\tAverage Score: {:.2f}'.format(episode, avg_rew), end=\"\")\n",
        "      if avg_rew > -300:\n",
        "        print('Stopped at Episode ',episode)\n",
        "        break\n",
        "    if episode >= 100:\n",
        "      avg_rew = np.mean(reward_list[-100:])\n",
        "      print('\\rEpisode {}\\tAverage Score: {:.2f}'.format(episode, avg_rew), end=\"\")\n",
        "    if episode%100 == 0:\n",
        "      avg_rew = np.mean(reward_list[-100:])\n",
        "      print('\\rEpisode {}\\tAverage Score: {:.2f}'.format(episode, avg_rew))\n",
        "\n",
        "    if episode >= 100:\n",
        "      avg_100 =  np.mean(reward_list[-100:])\n",
        "      if avg_100 > -300:\n",
        "        print('Stopped at Episode ',episode)\n",
        "        break\n",
        " \n",
        "  total_rewards.append(reward_list)\n",
        "\n",
        "  time_taken = datetime.datetime.now() - begin_time\n",
        "  print(time_taken)"
      ],
      "metadata": {
        "colab": {
          "base_uri": "https://localhost:8080/"
        },
        "id": "17T82F9RWHkc",
        "outputId": "010f2dfe-5269-4c5e-b6c9-80f0dda277be"
      },
      "execution_count": 8,
      "outputs": [
        {
          "output_type": "stream",
          "name": "stdout",
          "text": [
            "Episode 100\tAverage Score: -357.45\n",
            "Episode 119\tAverage Score: -299.96Stopped at Episode  119\n",
            "0:01:21.859243\n",
            "Episode 100\tAverage Score: -432.43\n",
            "Episode 163\tAverage Score: -299.71Stopped at Episode  163\n",
            "0:02:05.130763\n",
            "Episode 100\tAverage Score: -404.45\n",
            "Episode 153\tAverage Score: -298.83Stopped at Episode  153\n",
            "0:01:50.717745\n",
            "Episode 100\tAverage Score: -360.87\n",
            "Episode 124\tAverage Score: -298.50Stopped at Episode  124\n",
            "0:01:23.679034\n",
            "Episode 100\tAverage Score: -413.70\n",
            "Episode 149\tAverage Score: -299.33Stopped at Episode  149\n",
            "0:01:53.923381\n"
          ]
        }
      ]
    },
    {
      "cell_type": "code",
      "source": [
        "import seaborn as sns\n",
        "def plot_mean_and_variance(mean_array, std_array):\n",
        "    x = np.arange(len(mean_array))\n",
        "    plt.plot(x, mean_array, label='Mean')\n",
        "    plt.fill_between(x, mean_array - std_array, mean_array + std_array, alpha=0.2, label='Standard Deviation')\n",
        "    sns.set_style('darkgrid')\n",
        "    plt.xlabel('Episodes', fontsize = 16)\n",
        "    plt.ylabel('Reward', fontsize = 16)"
      ],
      "metadata": {
        "id": "XylJSg1WQwCi"
      },
      "execution_count": 12,
      "outputs": []
    },
    {
      "cell_type": "code",
      "source": [
        "def tolerant_mean(arrs):\n",
        "    lens = [len(i) for i in arrs]\n",
        "    arr = np.ma.empty((np.max(lens),len(arrs)))\n",
        "    arr.mask = True\n",
        "    for idx, l in enumerate(arrs):\n",
        "        arr[:len(l),idx] = l\n",
        "    return arr.mean(axis = -1), arr.std(axis=-1)\n",
        "\n",
        "y, error = tolerant_mean(total_rewards)\n",
        "plot_mean_and_variance(y, error)"
      ],
      "metadata": {
        "id": "fi39wXUNE4g6",
        "colab": {
          "base_uri": "https://localhost:8080/",
          "height": 284
        },
        "outputId": "47a6df00-e6f0-4c1d-88ba-6452009a36b6"
      },
      "execution_count": 13,
      "outputs": [
        {
          "output_type": "display_data",
          "data": {
            "text/plain": [
              "<Figure size 432x288 with 1 Axes>"
            ],
            "image/png": "[encoded data removed]"
          },
          "metadata": {}
        }
      ]
    },
    {
      "cell_type": "code",
      "source": [
        "variance = sum(error)/len(error)\n",
        "print(variance)"
      ],
      "metadata": {
        "id": "OxUvaqoDFACX",
        "colab": {
          "base_uri": "https://localhost:8080/"
        },
        "outputId": "5fcf95b7-6ae4-4544-ab8d-21732cb16a16"
      },
      "execution_count": 11,
      "outputs": [
        {
          "output_type": "stream",
          "name": "stdout",
          "text": [
            "56.53316638790551\n"
          ]
        }
      ]
    }
  ],
  "metadata": {
    "colab": {
      "provenance": []
    },
    "kernelspec": {
      "display_name": "Python 3",
      "name": "python3"
    },
    "language_info": {
      "name": "python"
    }
  },
  "nbformat": 4,
  "nbformat_minor": 0
}