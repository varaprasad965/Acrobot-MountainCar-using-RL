{
  "cells": [
    {
      "cell_type": "code",
      "execution_count": null,
      "metadata": {
        "colab": {
          "base_uri": "https://localhost:8080/"
        },
        "id": "inyjEysSmTYW",
        "outputId": "f8fcc69e-2fa9-4b46-b153-7a653a98c8db"
      },
      "outputs": [
        {
          "output_type": "stream",
          "name": "stdout",
          "text": [
            "Looking in indexes: https://pypi.org/simple, https://us-python.pkg.dev/colab-wheels/public/simple/\n",
            "Requirement already satisfied: setuptools in /usr/local/lib/python3.9/dist-packages (67.6.0)\n",
            "Collecting setuptools\n",
            "  Downloading setuptools-67.6.1-py3-none-any.whl (1.1 MB)\n",
            "\u001b[2K     \u001b[90m━━━━━━━━━━━━━━━━━━━━━━━━━━━━━━━━━━━━━━━━\u001b[0m \u001b[32m1.1/1.1 MB\u001b[0m \u001b[31m13.5 MB/s\u001b[0m eta \u001b[36m0:00:00\u001b[0m\n",
            "\u001b[?25hInstalling collected packages: setuptools\n",
            "  Attempting uninstall: setuptools\n",
            "    Found existing installation: setuptools 67.6.0\n",
            "    Uninstalling setuptools-67.6.0:\n",
            "      Successfully uninstalled setuptools-67.6.0\n",
            "\u001b[31mERROR: pip's dependency resolver does not currently take into account all the packages that are installed. This behaviour is the source of the following dependency conflicts.\n",
            "ipython 7.9.0 requires jedi>=0.10, which is not installed.\u001b[0m\u001b[31m\n",
            "\u001b[0mSuccessfully installed setuptools-67.6.1\n",
            "Looking in indexes: https://pypi.org/simple, https://us-python.pkg.dev/colab-wheels/public/simple/\n",
            "Requirement already satisfied: gym[classic_control] in /usr/local/lib/python3.9/dist-packages (0.25.2)\n",
            "Requirement already satisfied: gym-notices>=0.0.4 in /usr/local/lib/python3.9/dist-packages (from gym[classic_control]) (0.0.8)\n",
            "Requirement already satisfied: importlib-metadata>=4.8.0 in /usr/local/lib/python3.9/dist-packages (from gym[classic_control]) (6.1.0)\n",
            "Requirement already satisfied: cloudpickle>=1.2.0 in /usr/local/lib/python3.9/dist-packages (from gym[classic_control]) (2.2.1)\n",
            "Requirement already satisfied: numpy>=1.18.0 in /usr/local/lib/python3.9/dist-packages (from gym[classic_control]) (1.22.4)\n",
            "Collecting pygame==2.1.0\n",
            "  Downloading pygame-2.1.0-cp39-cp39-manylinux_2_17_x86_64.manylinux2014_x86_64.whl (18.3 MB)\n",
            "\u001b[2K     \u001b[90m━━━━━━━━━━━━━━━━━━━━━━━━━━━━━━━━━━━━━━━━\u001b[0m \u001b[32m18.3/18.3 MB\u001b[0m \u001b[31m52.9 MB/s\u001b[0m eta \u001b[36m0:00:00\u001b[0m\n",
            "\u001b[?25hRequirement already satisfied: zipp>=0.5 in /usr/local/lib/python3.9/dist-packages (from importlib-metadata>=4.8.0->gym[classic_control]) (3.15.0)\n",
            "Installing collected packages: pygame\n",
            "  Attempting uninstall: pygame\n",
            "    Found existing installation: pygame 2.3.0\n",
            "    Uninstalling pygame-2.3.0:\n",
            "      Successfully uninstalled pygame-2.3.0\n",
            "Successfully installed pygame-2.1.0\n"
          ]
        }
      ],
      "source": [
        "'''\n",
        "Installing packages for rendering the game on Colab\n",
        "'''\n",
        "\n",
        "!pip install gym pyvirtualdisplay > /dev/null 2>&1\n",
        "!apt-get install -y xvfb python-opengl ffmpeg > /dev/null 2>&1\n",
        "!apt-get update > /dev/null 2>&1\n",
        "!apt-get install cmake > /dev/null 2>&1\n",
        "!pip install --upgrade setuptools 2>&1\n",
        "!pip install ez_setup > /dev/null 2>&1\n",
        "!pip install gym[atari] > /dev/null 2>&1\n",
        "!pip install git+https://github.com/tensorflow/docs > /dev/null 2>&1\n",
        "!pip install gym[classic_control]"
      ]
    },
    {
      "cell_type": "code",
      "execution_count": null,
      "metadata": {
        "id": "MoyENSiknAsD"
      },
      "outputs": [],
      "source": [
        "import numpy as np\n",
        "import random\n",
        "import torch\n",
        "import torch.nn as nn  \n",
        "import torch.nn.functional as F\n",
        "from collections import namedtuple, deque\n",
        "import torch.optim as optim\n",
        "import datetime\n",
        "import gym\n",
        "from gym.wrappers.record_video import RecordVideo\n",
        "import glob\n",
        "import io\n",
        "import base64\n",
        "import matplotlib.pyplot as plt\n",
        "from IPython.display import HTML\n",
        "from pyvirtualdisplay import Display\n",
        "import tensorflow as tf\n",
        "from IPython import display as ipythondisplay\n",
        "from PIL import Image\n",
        "import tensorflow_probability as tfp"
      ]
    },
    {
      "cell_type": "code",
      "execution_count": null,
      "metadata": {
        "colab": {
          "base_uri": "https://localhost:8080/"
        },
        "id": "TFDCI-OknDtJ",
        "outputId": "c09b991d-73b7-4f0d-9885-fceaccb4deb5"
      },
      "outputs": [
        {
          "output_type": "stream",
          "name": "stdout",
          "text": [
            "6\n",
            "3\n",
            "2\n",
            "----\n",
            "[ 0.99962485  0.02738891  0.9989402  -0.04602639 -0.09180529 -0.09669447]\n",
            "----\n",
            "2\n",
            "----\n",
            "[ 0.99996984 -0.0077642   0.9997182  -0.02373883 -0.25169677  0.31000718]\n",
            "-1.0\n",
            "False\n",
            "{}\n",
            "----\n"
          ]
        }
      ],
      "source": [
        "env = gym.make('Acrobot-v1')\n",
        "env.seed(0)\n",
        "\n",
        "state_shape = env.observation_space.shape[0]\n",
        "no_of_actions = env.action_space.n\n",
        "\n",
        "print(state_shape)\n",
        "print(no_of_actions)\n",
        "print(env.action_space.sample())\n",
        "print(\"----\")\n",
        "\n",
        "state = env.reset()   \n",
        "\n",
        "print(state)\n",
        "print(\"----\")\n",
        "\n",
        "action = env.action_space.sample()  \n",
        "\n",
        "print(action)\n",
        "print(\"----\")\n",
        "\n",
        "next_state, reward, done, info = env.step(action) \n",
        "\n",
        "print(next_state)\n",
        "print(reward)\n",
        "print(done)\n",
        "print(info)\n",
        "print(\"----\")"
      ]
    },
    {
      "cell_type": "code",
      "execution_count": null,
      "metadata": {
        "id": "9QOCX6IJc3h0"
      },
      "outputs": [],
      "source": [
        "import gym\n",
        "import numpy as np\n",
        "import torch\n",
        "import torch.nn as nn\n",
        "import torch.optim as optim\n",
        "\n",
        "class ActorCritic(nn.Module):\n",
        "\n",
        "    def __init__(self, state_dim, action_dim, hidden1, hidden2):\n",
        "        super(ActorCritic, self).__init__()\n",
        "\n",
        "        self.actor = nn.Sequential(\n",
        "            nn.Linear(state_dim, hidden1),\n",
        "            nn.ReLU(),\n",
        "            nn.Linear(hidden1, hidden2),\n",
        "            nn.ReLU(),\n",
        "            nn.Linear(hidden2, action_dim),\n",
        "            nn.Softmax(dim=-1),\n",
        "        )\n",
        "        self.critic = nn.Sequential(\n",
        "            nn.Linear(state_dim, hidden1),\n",
        "            nn.ReLU(),\n",
        "            nn.Linear(hidden1, hidden2),\n",
        "            nn.ReLU(),\n",
        "            nn.Linear(hidden2, 1)\n",
        "        )\n",
        "\n",
        "    def forward(self, state):\n",
        "        action_probs = self.actor(state)\n",
        "        value = self.critic(state)\n",
        "        return action_probs, value"
      ]
    },
    {
      "cell_type": "code",
      "execution_count": 46,
      "metadata": {
        "id": "eXvjaSB1mLbk"
      },
      "outputs": [],
      "source": [
        "HIDDEN1 = 128\n",
        "HIDDEN2 = 64\n",
        "GAMMA = 0.99\n",
        "LR = 5e-5\n",
        "SEED = 101"
      ]
    },
    {
      "cell_type": "code",
      "execution_count": null,
      "metadata": {
        "id": "-2y9nGWOl3OR"
      },
      "outputs": [],
      "source": [
        "class Agent():\n",
        "\n",
        "  def __init__(self, state_dim, action_dim, gamma = GAMMA, seed = SEED):\n",
        "    super(Agent, self).__init__()\n",
        "    self.gamma = gamma\n",
        "    self.ac_model = ActorCritic(state_dim, action_dim, HIDDEN1, HIDDEN2)\n",
        "    self.optimizer = optim.Adam(self.ac_model.parameters(), lr = LR)\n",
        "    np.random.seed(seed)\n",
        "\n",
        "  def sample_action(self, state):\n",
        "    state_tensor = torch.FloatTensor(state).unsqueeze(0)\n",
        "    action_probs, _ = self.ac_model(state_tensor)\n",
        "    action = np.random.choice(env.action_space.n, p=action_probs.detach().numpy()[0])\n",
        "    return action\n",
        "\n",
        "  def actor_loss(self, action_probs, action, advantage):\n",
        "    actor_loss = -torch.log(action_probs[0, action]) * advantage.detach()\n",
        "    return actor_loss\n",
        "\n",
        "  def critic_loss(self, advantage):\n",
        "    return advantage.pow(2)\n",
        "\n",
        "  def learn(self, state, action, reward, next_state, done):\n",
        "\n",
        "    state_tensor = torch.FloatTensor(state).unsqueeze(0)\n",
        "    next_state_tensor = torch.FloatTensor(next_state).unsqueeze(0)\n",
        "    action_probs, value = self.ac_model(state_tensor)\n",
        "    _, next_value = self.ac_model(next_state_tensor)\n",
        "\n",
        "    advantage = reward + (1 - done)*self.gamma*(next_value) - value\n",
        "    actor_loss = self.actor_loss(action_probs, action, advantage)\n",
        "    critic_loss = self.critic_loss(advantage)\n",
        "    total_loss = actor_loss + critic_loss\n",
        "\n",
        "    self.optimizer.zero_grad()\n",
        "    total_loss.backward()\n",
        "    self.optimizer.step()"
      ]
    },
    {
      "cell_type": "code",
      "execution_count": null,
      "metadata": {
        "colab": {
          "base_uri": "https://localhost:8080/"
        },
        "id": "i2nypYlRs4B6",
        "outputId": "d9bbeded-ba1a-46c0-a88a-6ee993953893"
      },
      "outputs": [
        {
          "output_type": "stream",
          "name": "stdout",
          "text": [
            "Episode 100\tAverage Score: -500.00\n",
            "Episode 200\tAverage Score: -500.00\n",
            "Episode 247\tAverage Score: -500.00"
          ]
        }
      ],
      "source": [
        "total_rewards = []\n",
        "n_episodes = []\n",
        "\n",
        "for i in range(10):\n",
        "  env = gym.make('MountainCar-v0')\n",
        "  env._max_episode_steps = 500\n",
        "  env.seed(SEED)\n",
        "  state_dim = env.observation_space.shape[0]\n",
        "  action_dim = env.action_space.n\n",
        "  reward_list = []\n",
        "  begin_time = datetime.datetime.now()\n",
        "\n",
        "  agent = Agent(state_dim, action_dim)\n",
        "  num_episodes = 10000\n",
        "  for episode in range(1, num_episodes+1):\n",
        "    state = env.reset()\n",
        "    done = False\n",
        "    episode_reward = 0\n",
        "    while not done:\n",
        "      action = agent.sample_action(state)\n",
        "      next_state, reward, done, info = env.step(action)\n",
        "      episode_reward += reward\n",
        "      agent.learn(state, action, reward, next_state, done)\n",
        "      state = next_state\n",
        "    reward_list.append(episode_reward)\n",
        "\n",
        "\n",
        "    if episode < 100:\n",
        "        avg_rew = np.mean(reward_list)\n",
        "        print('\\rEpisode {}\\tAverage Score: {:.2f}'.format(episode, avg_rew), end=\"\")\n",
        "        avg_100 =  np.mean(reward_list)\n",
        "        if avg_100 > -350.0:\n",
        "          print('Stopped at Episode ',episode)\n",
        "          n_episodes.append(episode)\n",
        "          break\n",
        "    if episode >= 100:\n",
        "      avg_rew = np.mean(reward_list[-100:])\n",
        "      print('\\rEpisode {}\\tAverage Score: {:.2f}'.format(episode, avg_rew), end=\"\")\n",
        "    if episode%100 == 0:\n",
        "      avg_rew = np.mean(reward_list[-100:])\n",
        "      print('\\rEpisode {}\\tAverage Score: {:.2f}'.format(episode, avg_rew))\n",
        "\n",
        "    if episode >= 100:\n",
        "      avg_100 =  np.mean(reward_list[-100:])\n",
        "      if avg_100 > -350.0:\n",
        "        print('Stopped at Episode ',episode)\n",
        "        n_episodes.append(episode)\n",
        "        break\n",
        "\n",
        "  total_rewards.append(reward_list)\n",
        "  time_taken = datetime.datetime.now() - begin_time\n",
        "  print(time_taken)"
      ]
    },
    {
      "cell_type": "code",
      "execution_count": 37,
      "metadata": {
        "id": "WixkFfF9gNxL"
      },
      "outputs": [],
      "source": [
        "import seaborn as sns\n",
        "def plot_mean_and_variance(mean_array, std_array):\n",
        "    x = np.arange(len(mean_array))\n",
        "    plt.plot(x, mean_array, label='Mean')\n",
        "    plt.fill_between(x, mean_array - std_array, mean_array + std_array, alpha=0.2, label='Standard Deviation')\n",
        "    sns.set_style('darkgrid')\n",
        "    plt.xlabel('Episodes', fontsize = 16)\n",
        "    plt.ylabel('Reward', fontsize = 16)"
      ]
    },
    {
      "cell_type": "code",
      "source": [
        "def tolerant_mean(arrs):\n",
        "    lens = [len(i) for i in arrs]\n",
        "    arr = np.ma.empty((np.max(lens),len(arrs)))\n",
        "    arr.mask = True\n",
        "    for idx, l in enumerate(arrs):\n",
        "        arr[:len(l),idx] = l\n",
        "    return arr.mean(axis = -1), arr.std(axis=-1)\n",
        "\n",
        "y, error = tolerant_mean(total_rewards)\n",
        "plot_mean_and_variance(y, error)"
      ],
      "metadata": {
        "colab": {
          "base_uri": "https://localhost:8080/",
          "height": 284
        },
        "id": "k4rMsvPfGIWE",
        "outputId": "c11f019a-4f31-403e-a7c1-f44a4e538967"
      },
      "execution_count": 40,
      "outputs": [
        {
          "output_type": "display_data",
          "data": {
            "text/plain": [
              "<Figure size 432x288 with 1 Axes>"
            ],
            "image/png": "[encoded data removed]"
          },
          "metadata": {}
        }
      ]
    },
    {
      "cell_type": "code",
      "source": [
        "variance = sum(error)/len(error)\n",
        "print(variance)"
      ],
      "metadata": {
        "colab": {
          "base_uri": "https://localhost:8080/"
        },
        "id": "Dm1s6mGIIe6k",
        "outputId": "a493d1d7-06c6-4623-93b4-214527d5adbd"
      },
      "execution_count": 39,
      "outputs": [
        {
          "output_type": "stream",
          "name": "stdout",
          "text": [
            "52.713570295201336\n"
          ]
        }
      ]
    }
  ],
  "metadata": {
    "colab": {
      "provenance": []
    },
    "kernelspec": {
      "display_name": "Python 3",
      "name": "python3"
    },
    "language_info": {
      "name": "python"
    }
  },
  "nbformat": 4,
  "nbformat_minor": 0
}